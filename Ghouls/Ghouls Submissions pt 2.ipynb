{
 "cells": [
  {
   "cell_type": "markdown",
   "metadata": {},
   "source": [
    "# Ghouls Submissions pt.2\n",
    "The first notebook represents a nice analysis of the features etc. That was then broken out into a notebook where I tried a few models and submitted the results where The best results were 3. 1. 2.  In this notebook I really want to clean up the submissions with lessons learned - since I didnt have a complete understanding when I was generating the submissions then.\n",
    "\n",
    "### Nested Cross Validation\n",
    "The major focus of this work is nested cross valdiation - this was somewhat confusing and that is apparent in the code (i.e. there are some lines that simply look at how nested cross val is working). Ultimately there was a lot of learning here."
   ]
  },
  {
   "cell_type": "code",
   "execution_count": 88,
   "metadata": {
    "collapsed": true
   },
   "outputs": [],
   "source": [
    "import pandas as pd\n",
    "import numpy as np"
   ]
  },
  {
   "cell_type": "code",
   "execution_count": 89,
   "metadata": {
    "collapsed": true
   },
   "outputs": [],
   "source": [
    "from sklearn.ensemble import RandomForestClassifier\n",
    "from sklearn.pipeline import Pipeline\n",
    "from sklearn.preprocessing import PolynomialFeatures\n",
    "from sklearn.model_selection import cross_val_score\n",
    "from sklearn.model_selection import GridSearchCV"
   ]
  },
  {
   "cell_type": "code",
   "execution_count": 90,
   "metadata": {
    "collapsed": true
   },
   "outputs": [],
   "source": [
    "train = pd.read_csv('train.csv')\n",
    "test = pd.read_csv('test.csv')"
   ]
  },
  {
   "cell_type": "code",
   "execution_count": 91,
   "metadata": {
    "collapsed": false
   },
   "outputs": [
    {
     "data": {
      "text/plain": [
       "Index(['id', 'bone_length', 'rotting_flesh', 'hair_length', 'has_soul',\n",
       "       'color', 'type'],\n",
       "      dtype='object')"
      ]
     },
     "execution_count": 91,
     "metadata": {},
     "output_type": "execute_result"
    }
   ],
   "source": [
    "train.columns"
   ]
  },
  {
   "cell_type": "markdown",
   "metadata": {},
   "source": [
    "### Initially we dropped color \n",
    "Additionally we were mapping the outputs from strings to numbers, I don't think that is strictly necessary hence we are dropping that line below"
   ]
  },
  {
   "cell_type": "code",
   "execution_count": 92,
   "metadata": {
    "collapsed": false
   },
   "outputs": [],
   "source": [
    "# lets prep our features\n",
    "dummies = pd.get_dummies(train['color'])\n",
    "X = train.drop(['id','color','type'],axis=1)\n",
    "\n",
    "# we also need to format our target variable \n",
    "# type_dict = {'Ghoul':0,'Goblin':1,'Ghost':2}\n",
    "# Y = train.type.map(type_dict)\n",
    "\n",
    "Y = train.type"
   ]
  },
  {
   "cell_type": "markdown",
   "metadata": {},
   "source": [
    "## First Submission\n",
    "**NOTE:** This is a nice way to grab the best model from our GridSearchCV object. I didn't use this for the actual first submission as it wasn't clear to me this is how you use it. **A more thorough approach would have been Nested Cross Validation**"
   ]
  },
  {
   "cell_type": "code",
   "execution_count": 93,
   "metadata": {
    "collapsed": false
   },
   "outputs": [],
   "source": [
    "pipe_rf = Pipeline([('poly', PolynomialFeatures()),\n",
    "                    ('clf', RandomForestClassifier(random_state=1))])\n",
    "\n",
    "param_grid = [{'poly__degree':[2,3],\n",
    "               'clf__criterion':['gini','entropy'],\n",
    "               'clf__max_features':[1,2,3,4,5,6,7,8,\"sqrt\",\"log2\"],\n",
    "               'clf__min_samples_split':[1,2,3,4,5,6,7]}]\n",
    "\n",
    "gs = GridSearchCV(estimator=pipe_rf,\n",
    "                 param_grid=param_grid,\n",
    "                 scoring='accuracy',\n",
    "                 cv=10,\n",
    "                 n_jobs=-1)"
   ]
  },
  {
   "cell_type": "code",
   "execution_count": 8,
   "metadata": {
    "collapsed": false
   },
   "outputs": [
    {
     "name": "stdout",
     "output_type": "stream",
     "text": [
      "0.762803234501\n",
      "{'clf__min_samples_split': 1, 'clf__criterion': 'entropy', 'clf__max_features': 4, 'poly__degree': 2}\n"
     ]
    }
   ],
   "source": [
    "gs = gs.fit(X.values,Y.values)\n",
    "print(gs.best_score_)\n",
    "print(gs.best_params_)"
   ]
  },
  {
   "cell_type": "markdown",
   "metadata": {},
   "source": [
    "The best score doesnt really tell the right story - this should be an average with a standard deviation. Also this is NOT nested CV which is more robust"
   ]
  },
  {
   "cell_type": "code",
   "execution_count": 14,
   "metadata": {
    "collapsed": false
   },
   "outputs": [
    {
     "data": {
      "text/plain": [
       "array(['Ghoul', 'Goblin', 'Ghoul', 'Goblin', 'Ghost', 'Ghost', 'Ghoul',\n",
       "       'Ghoul', 'Goblin', 'Ghoul'], dtype=object)"
      ]
     },
     "execution_count": 14,
     "metadata": {},
     "output_type": "execute_result"
    }
   ],
   "source": [
    "# since we already ran a few variants of clf above we can just grab our best model based on our best params\n",
    "gs.best_estimator_.fit(X.values, Y.values)\n",
    "y_pred = gs.best_estimator_.predict(test.drop(['id','color'],axis=1))\n",
    "\n",
    "y_pred[:10]"
   ]
  },
  {
   "cell_type": "code",
   "execution_count": 15,
   "metadata": {
    "collapsed": false
   },
   "outputs": [
    {
     "data": {
      "text/html": [
       "<div>\n",
       "<table border=\"1\" class=\"dataframe\">\n",
       "  <thead>\n",
       "    <tr style=\"text-align: right;\">\n",
       "      <th></th>\n",
       "      <th>id</th>\n",
       "      <th>type</th>\n",
       "    </tr>\n",
       "  </thead>\n",
       "  <tbody>\n",
       "    <tr>\n",
       "      <th>0</th>\n",
       "      <td>3</td>\n",
       "      <td>Ghoul</td>\n",
       "    </tr>\n",
       "    <tr>\n",
       "      <th>1</th>\n",
       "      <td>6</td>\n",
       "      <td>Goblin</td>\n",
       "    </tr>\n",
       "    <tr>\n",
       "      <th>2</th>\n",
       "      <td>9</td>\n",
       "      <td>Ghoul</td>\n",
       "    </tr>\n",
       "    <tr>\n",
       "      <th>3</th>\n",
       "      <td>10</td>\n",
       "      <td>Goblin</td>\n",
       "    </tr>\n",
       "    <tr>\n",
       "      <th>4</th>\n",
       "      <td>13</td>\n",
       "      <td>Ghost</td>\n",
       "    </tr>\n",
       "  </tbody>\n",
       "</table>\n",
       "</div>"
      ],
      "text/plain": [
       "   id    type\n",
       "0   3   Ghoul\n",
       "1   6  Goblin\n",
       "2   9   Ghoul\n",
       "3  10  Goblin\n",
       "4  13   Ghost"
      ]
     },
     "execution_count": 15,
     "metadata": {},
     "output_type": "execute_result"
    }
   ],
   "source": [
    "# create the submission\n",
    "submission = pd.DataFrame({'id':test.id,'type':y_pred})\n",
    "submission.head()"
   ]
  },
  {
   "cell_type": "code",
   "execution_count": 30,
   "metadata": {
    "collapsed": true
   },
   "outputs": [],
   "source": [
    "submission.to_csv('ghouls_01_alt.csv',index=False)"
   ]
  },
  {
   "cell_type": "markdown",
   "metadata": {},
   "source": [
    "## Second Submission\n",
    "This submission was based on a best_params_ from the previous spreadsheet - which probably wasn't validated properly. This submission received the lowest marks. \n",
    "\n",
    "    {'clf__criterion': 'gini', 'clf__min_samples_split': 5, 'clf__max_features': 4}"
   ]
  },
  {
   "cell_type": "code",
   "execution_count": 31,
   "metadata": {
    "collapsed": false
   },
   "outputs": [],
   "source": [
    "# # the first day GS came up with this: {'clf__criterion': 'gini', 'clf__min_samples_split': 5, 'clf__max_features': 4}\n",
    "# clf = RandomForestClassifier(criterion='gini',min_samples_split=5,max_features=4)\n",
    "\n",
    "# x = pd.get_dummies(train.drop(['id','type'],axis=1))\n",
    "# y = train.type.map(type_dict)\n",
    "# clf.fit(x.values, y)\n",
    "\n",
    "# y_test = pd.get_dummies(test.drop(['id'],axis=1))\n",
    "# y_pred2 = clf.predict(y_test.values)"
   ]
  },
  {
   "cell_type": "code",
   "execution_count": 32,
   "metadata": {
    "collapsed": false
   },
   "outputs": [],
   "source": [
    "# submission2 = pd.DataFrame({'id':test.id,'type':y_pred2})\n",
    "# reverse_dict = {0:'Ghoul',1:'Goblin',2:'Ghost'}\n",
    "# submission2['type'] = submission2.type.map(reverse_dict)\n",
    "\n",
    "# submission2.head()"
   ]
  },
  {
   "cell_type": "code",
   "execution_count": 33,
   "metadata": {
    "collapsed": false,
    "scrolled": true
   },
   "outputs": [],
   "source": [
    "# # before we submit lets just make sure this isnt the same submission 2x\n",
    "# submission.type == submission2.type"
   ]
  },
  {
   "cell_type": "code",
   "execution_count": 34,
   "metadata": {
    "collapsed": true
   },
   "outputs": [],
   "source": [
    "# submission2.to_csv('ghouls_02.csv',index=False)"
   ]
  },
  {
   "cell_type": "markdown",
   "metadata": {},
   "source": [
    "## Submission 3\n",
    "I decided to try the SVC model that appeared to run well the previous day. Once again pulling in the best params from the GridSearchCV I just randoml tried the following:\n",
    "\n",
    "    {'clf__kernel': 'rbf', 'clf__gamma': 0.01, 'clf__C': 10.0}\n",
    "    \n",
    "    SVC(C=10, cache_size=200, class_weight=None, coef0=0.0,\n",
    "      decision_function_shape=None, degree=3, gamma=0.01, kernel='rbf',\n",
    "      max_iter=-1, probability=False, random_state=1, shrinking=True,\n",
    "      tol=0.001, verbose=False)"
   ]
  },
  {
   "cell_type": "code",
   "execution_count": 35,
   "metadata": {
    "collapsed": true
   },
   "outputs": [],
   "source": [
    "# Fuck it lets try SVC {'clf__kernel': 'rbf', 'clf__gamma': 0.01, 'clf__C': 10.0}\n",
    "from sklearn.svm import SVC"
   ]
  },
  {
   "cell_type": "code",
   "execution_count": 36,
   "metadata": {
    "collapsed": false
   },
   "outputs": [],
   "source": [
    "def make_poly(df,n):\n",
    "    \"\"\"make a poly and add back in dummies\"\"\"\n",
    "    poly = PolynomialFeatures(degree=n)\n",
    "    if 'type' in df.columns:\n",
    "        df = df.drop(['type'],axis=1)\n",
    "    train_poly = poly.fit_transform(df.drop(['id','color'],axis=1).values)\n",
    "    dummies = pd.get_dummies(df.color)\n",
    "    t = pd.DataFrame(train_poly)\n",
    "    return pd.concat([t,dummies],axis=1)"
   ]
  },
  {
   "cell_type": "code",
   "execution_count": 37,
   "metadata": {
    "collapsed": false
   },
   "outputs": [
    {
     "data": {
      "text/plain": [
       "SVC(C=10, cache_size=200, class_weight=None, coef0=0.0,\n",
       "  decision_function_shape=None, degree=3, gamma=0.01, kernel='rbf',\n",
       "  max_iter=-1, probability=False, random_state=1, shrinking=True,\n",
       "  tol=0.001, verbose=False)"
      ]
     },
     "execution_count": 37,
     "metadata": {},
     "output_type": "execute_result"
    }
   ],
   "source": [
    "clf = SVC(kernel='rbf',gamma=0.01,C=10,random_state=1)\n",
    "\n",
    "clf.fit(make_poly(train,3).values, train.type.values)"
   ]
  },
  {
   "cell_type": "code",
   "execution_count": 38,
   "metadata": {
    "collapsed": true
   },
   "outputs": [],
   "source": [
    "y_pred3 = clf.predict(make_poly(test,3).values)"
   ]
  },
  {
   "cell_type": "code",
   "execution_count": 39,
   "metadata": {
    "collapsed": false
   },
   "outputs": [
    {
     "data": {
      "text/plain": [
       "array(['Ghoul', 'Goblin', 'Ghoul', 'Ghost', 'Ghost', 'Ghost', 'Ghoul',\n",
       "       'Ghoul', 'Goblin', 'Ghoul'], dtype=object)"
      ]
     },
     "execution_count": 39,
     "metadata": {},
     "output_type": "execute_result"
    }
   ],
   "source": [
    "y_pred3[:10]"
   ]
  },
  {
   "cell_type": "code",
   "execution_count": 40,
   "metadata": {
    "collapsed": false
   },
   "outputs": [
    {
     "data": {
      "text/html": [
       "<div>\n",
       "<table border=\"1\" class=\"dataframe\">\n",
       "  <thead>\n",
       "    <tr style=\"text-align: right;\">\n",
       "      <th></th>\n",
       "      <th>id</th>\n",
       "      <th>type</th>\n",
       "    </tr>\n",
       "  </thead>\n",
       "  <tbody>\n",
       "    <tr>\n",
       "      <th>0</th>\n",
       "      <td>3</td>\n",
       "      <td>Ghoul</td>\n",
       "    </tr>\n",
       "    <tr>\n",
       "      <th>1</th>\n",
       "      <td>6</td>\n",
       "      <td>Goblin</td>\n",
       "    </tr>\n",
       "    <tr>\n",
       "      <th>2</th>\n",
       "      <td>9</td>\n",
       "      <td>Ghoul</td>\n",
       "    </tr>\n",
       "    <tr>\n",
       "      <th>3</th>\n",
       "      <td>10</td>\n",
       "      <td>Ghost</td>\n",
       "    </tr>\n",
       "    <tr>\n",
       "      <th>4</th>\n",
       "      <td>13</td>\n",
       "      <td>Ghost</td>\n",
       "    </tr>\n",
       "  </tbody>\n",
       "</table>\n",
       "</div>"
      ],
      "text/plain": [
       "   id    type\n",
       "0   3   Ghoul\n",
       "1   6  Goblin\n",
       "2   9   Ghoul\n",
       "3  10   Ghost\n",
       "4  13   Ghost"
      ]
     },
     "execution_count": 40,
     "metadata": {},
     "output_type": "execute_result"
    }
   ],
   "source": [
    "submission3 = pd.DataFrame({'id':test.id,'type':y_pred3})\n",
    "submission3.head()"
   ]
  },
  {
   "cell_type": "code",
   "execution_count": 121,
   "metadata": {
    "collapsed": false,
    "scrolled": true
   },
   "outputs": [],
   "source": [
    "# submission3.to_csv('ghouls_03.csv',index=False)"
   ]
  },
  {
   "cell_type": "markdown",
   "metadata": {
    "collapsed": true
   },
   "source": [
    "## Let's see if we can't clean this up some\n",
    "We could have evaluated our models with nested grid search to see if the hyper parameters changed\n",
    "Also since I'm starting to get the hang of pipelines we could have tried a bunch more tuned models and seen which is\n",
    "best"
   ]
  },
  {
   "cell_type": "code",
   "execution_count": 59,
   "metadata": {
    "collapsed": false
   },
   "outputs": [
    {
     "data": {
      "text/html": [
       "<div>\n",
       "<table border=\"1\" class=\"dataframe\">\n",
       "  <thead>\n",
       "    <tr style=\"text-align: right;\">\n",
       "      <th></th>\n",
       "      <th>bone_length</th>\n",
       "      <th>rotting_flesh</th>\n",
       "      <th>hair_length</th>\n",
       "      <th>has_soul</th>\n",
       "    </tr>\n",
       "  </thead>\n",
       "  <tbody>\n",
       "    <tr>\n",
       "      <th>0</th>\n",
       "      <td>0.354512</td>\n",
       "      <td>0.350839</td>\n",
       "      <td>0.465761</td>\n",
       "      <td>0.781142</td>\n",
       "    </tr>\n",
       "    <tr>\n",
       "      <th>1</th>\n",
       "      <td>0.575560</td>\n",
       "      <td>0.425868</td>\n",
       "      <td>0.531401</td>\n",
       "      <td>0.439899</td>\n",
       "    </tr>\n",
       "    <tr>\n",
       "      <th>2</th>\n",
       "      <td>0.467875</td>\n",
       "      <td>0.354330</td>\n",
       "      <td>0.811616</td>\n",
       "      <td>0.791225</td>\n",
       "    </tr>\n",
       "    <tr>\n",
       "      <th>3</th>\n",
       "      <td>0.776652</td>\n",
       "      <td>0.508723</td>\n",
       "      <td>0.636766</td>\n",
       "      <td>0.884464</td>\n",
       "    </tr>\n",
       "    <tr>\n",
       "      <th>4</th>\n",
       "      <td>0.566117</td>\n",
       "      <td>0.875862</td>\n",
       "      <td>0.418594</td>\n",
       "      <td>0.636438</td>\n",
       "    </tr>\n",
       "  </tbody>\n",
       "</table>\n",
       "</div>"
      ],
      "text/plain": [
       "   bone_length  rotting_flesh  hair_length  has_soul\n",
       "0     0.354512       0.350839     0.465761  0.781142\n",
       "1     0.575560       0.425868     0.531401  0.439899\n",
       "2     0.467875       0.354330     0.811616  0.791225\n",
       "3     0.776652       0.508723     0.636766  0.884464\n",
       "4     0.566117       0.875862     0.418594  0.636438"
      ]
     },
     "execution_count": 59,
     "metadata": {},
     "output_type": "execute_result"
    }
   ],
   "source": [
    "# quickly lets just check-in on our data - here our training data has no color attribute any more\n",
    "X.head()"
   ]
  },
  {
   "cell_type": "code",
   "execution_count": 60,
   "metadata": {
    "collapsed": false
   },
   "outputs": [
    {
     "data": {
      "text/html": [
       "<div>\n",
       "<table border=\"1\" class=\"dataframe\">\n",
       "  <thead>\n",
       "    <tr style=\"text-align: right;\">\n",
       "      <th></th>\n",
       "      <th>id</th>\n",
       "      <th>bone_length</th>\n",
       "      <th>rotting_flesh</th>\n",
       "      <th>hair_length</th>\n",
       "      <th>has_soul</th>\n",
       "      <th>color</th>\n",
       "    </tr>\n",
       "  </thead>\n",
       "  <tbody>\n",
       "    <tr>\n",
       "      <th>0</th>\n",
       "      <td>3</td>\n",
       "      <td>0.471774</td>\n",
       "      <td>0.387937</td>\n",
       "      <td>0.706087</td>\n",
       "      <td>0.698537</td>\n",
       "      <td>black</td>\n",
       "    </tr>\n",
       "    <tr>\n",
       "      <th>1</th>\n",
       "      <td>6</td>\n",
       "      <td>0.427332</td>\n",
       "      <td>0.645024</td>\n",
       "      <td>0.565558</td>\n",
       "      <td>0.451462</td>\n",
       "      <td>white</td>\n",
       "    </tr>\n",
       "    <tr>\n",
       "      <th>2</th>\n",
       "      <td>9</td>\n",
       "      <td>0.549602</td>\n",
       "      <td>0.491931</td>\n",
       "      <td>0.660387</td>\n",
       "      <td>0.449809</td>\n",
       "      <td>black</td>\n",
       "    </tr>\n",
       "    <tr>\n",
       "      <th>3</th>\n",
       "      <td>10</td>\n",
       "      <td>0.638095</td>\n",
       "      <td>0.682867</td>\n",
       "      <td>0.471409</td>\n",
       "      <td>0.356924</td>\n",
       "      <td>white</td>\n",
       "    </tr>\n",
       "    <tr>\n",
       "      <th>4</th>\n",
       "      <td>13</td>\n",
       "      <td>0.361762</td>\n",
       "      <td>0.583997</td>\n",
       "      <td>0.377256</td>\n",
       "      <td>0.276364</td>\n",
       "      <td>black</td>\n",
       "    </tr>\n",
       "  </tbody>\n",
       "</table>\n",
       "</div>"
      ],
      "text/plain": [
       "   id  bone_length  rotting_flesh  hair_length  has_soul  color\n",
       "0   3     0.471774       0.387937     0.706087  0.698537  black\n",
       "1   6     0.427332       0.645024     0.565558  0.451462  white\n",
       "2   9     0.549602       0.491931     0.660387  0.449809  black\n",
       "3  10     0.638095       0.682867     0.471409  0.356924  white\n",
       "4  13     0.361762       0.583997     0.377256  0.276364  black"
      ]
     },
     "execution_count": 60,
     "metadata": {},
     "output_type": "execute_result"
    }
   ],
   "source": [
    "# note our test data in untouched\n",
    "test.head()"
   ]
  },
  {
   "cell_type": "markdown",
   "metadata": {},
   "source": [
    "### Nested Cross Validation"
   ]
  },
  {
   "cell_type": "code",
   "execution_count": 94,
   "metadata": {
    "collapsed": true
   },
   "outputs": [],
   "source": [
    "pipe_svc = Pipeline([ #('poly',PolynomialFeatures(degree=3)), #removing this so we can use make_poly\n",
    "                      ('clf',SVC(random_state=1))])\n",
    "\n",
    "param_range = [0.0001, 0.001, 0.01, 0.1, 1.0, 10.0, 100.0]\n",
    "param_grid = [{'clf__C': param_range,\n",
    "               'clf__kernel': ['linear']},\n",
    "              {'clf__C': param_range,\n",
    "               'clf__gamma': param_range,\n",
    "               'clf__kernel': ['rbf']}]\n",
    "\n",
    "gs = GridSearchCV(estimator=pipe_svc,\n",
    "                 param_grid=param_grid,\n",
    "                 scoring='accuracy',\n",
    "                 cv=10,\n",
    "                 n_jobs=-1)"
   ]
  },
  {
   "cell_type": "code",
   "execution_count": 95,
   "metadata": {
    "collapsed": false
   },
   "outputs": [
    {
     "name": "stdout",
     "output_type": "stream",
     "text": [
      "[ 0.74666667  0.73333333  0.81081081  0.64864865  0.67123288]\n",
      "Accuracy: 0.722 +/- 0.058\n"
     ]
    }
   ],
   "source": [
    "# here is the nested part - an unbiased estimate of how well the model will perform on new data\n",
    "scores = cross_val_score(gs,make_poly(train,3).values,train.type.values, scoring='accuracy',cv=5)\n",
    "print(scores)\n",
    "print('Accuracy: {0:.3f} +/- {1:.3f}'.format(np.mean(scores),np.std(scores)))"
   ]
  },
  {
   "cell_type": "code",
   "execution_count": 96,
   "metadata": {
    "collapsed": false,
    "scrolled": true
   },
   "outputs": [
    {
     "name": "stdout",
     "output_type": "stream",
     "text": [
      "{'clf__kernel': 'rbf', 'clf__gamma': 0.001, 'clf__C': 100.0} \t\t 0.732142857143\n",
      "{'clf__kernel': 'rbf', 'clf__gamma': 0.01, 'clf__C': 100.0} \t\t 0.705357142857\n",
      "{'clf__kernel': 'linear', 'clf__C': 10.0} \t\t 0.767857142857\n",
      "{'clf__kernel': 'linear', 'clf__C': 10.0} \t\t 0.794642857143\n",
      "{'clf__kernel': 'linear', 'clf__C': 1.0} \t\t 0.732142857143\n",
      "{'clf__kernel': 'linear', 'clf__C': 10.0} \t\t 0.776785714286\n",
      "{'clf__kernel': 'rbf', 'clf__gamma': 1.0, 'clf__C': 1.0} \t\t 0.660714285714\n",
      "{'clf__kernel': 'rbf', 'clf__gamma': 0.001, 'clf__C': 100.0} \t\t 0.732142857143\n",
      "{'clf__kernel': 'linear', 'clf__C': 100.0} \t\t 0.705357142857\n",
      "{'clf__kernel': 'linear', 'clf__C': 10.0} \t\t 0.714285714286\n"
     ]
    }
   ],
   "source": [
    "# this approach is excellent for getting the scores but it doesn't give the best model parameters\n",
    "# https://rvraghav93.blogspot.com/2015/06/gsoc-2015-psf-scikit-learn-nested-cross.html\n",
    "# unfortunately we have to nest the two loops somewhat by hand to see the individual parameters\n",
    "from sklearn.cross_validation import StratifiedShuffleSplit\n",
    "\n",
    "cv_outer = StratifiedShuffleSplit(train.type.values, n_iter=10,test_size=0.3, random_state=1)\n",
    "\n",
    "for training_set_indices_i, testing_set_indices_i in cv_outer:\n",
    "    training_set_i = make_poly(train,3).values[training_set_indices_i], train.type.values[training_set_indices_i]\n",
    "    testing_set_i = make_poly(train,3).values[testing_set_indices_i], train.type.values[testing_set_indices_i]\n",
    "    gs.fit(*training_set_i)\n",
    "    print(gs.best_params_, '\\t\\t', gs.score(*testing_set_i))\n"
   ]
  },
  {
   "cell_type": "markdown",
   "metadata": {},
   "source": [
    "### How this is actually working...\n",
    "If you look above there are quite a few values... this is what a run looks like with only 5 training loops:\n",
    "\n",
    "    cv_outer = StratifiedShuffleSplit(train.type.values, n_iter=5,test_size=0.3, random_state=1)\n",
    "\n",
    "    for training_set_indices_i, testing_set_indices_i in cv_outer:\n",
    "        training_set_i = make_poly(train,3).values[training_set_indices_i], train.type.values[training_set_indices_i]\n",
    "        testing_set_i = make_poly(train,3).values[testing_set_indices_i], train.type.values[testing_set_indices_i]\n",
    "        gs.fit(*training_set_i)\n",
    "        print(gs.best_params_, '\\t\\t', gs.score(*testing_set_i))\n",
    "\n",
    "\n",
    "    {'clf__kernel': 'rbf', 'clf__gamma': 0.001, 'clf__C': 100.0} \t\t 0.732142857143\n",
    "    {'clf__kernel': 'rbf', 'clf__gamma': 0.01, 'clf__C': 100.0} \t\t 0.705357142857\n",
    "    {'clf__kernel': 'linear', 'clf__C': 10.0} \t\t 0.767857142857\n",
    "    {'clf__kernel': 'linear', 'clf__C': 10.0} \t\t 0.794642857143\n",
    "    {'clf__kernel': 'linear', 'clf__C': 1.0} \t\t 0.732142857143\n",
    "\n",
    "This isn't quite working the way I thought it might... this is presenting the best estimator for a seemingly random modeling of the data. **I need to better understand this apparent randomness i.e. where it is coming from** But what we see is that we could rank the number of times a model is the \"best\". We see from above that a few models are frequently top performers... BUT most notably \n",
    "\n",
    "    {'clf__kernel': 'linear', 'clf__C': 10.0}\n",
    "    \n",
    "Which is surprising since our best scoring model is fit with these params (which also show up in our list - but not nearly as frequently as that of the above value\n",
    "\n",
    "    {'clf__kernel': 'rbf', 'clf__gamma': 0.01, 'clf__C': 10.0}\n",
    "\n",
    "#### Lets see how the linear SVC model works in a submission"
   ]
  },
  {
   "cell_type": "code",
   "execution_count": 83,
   "metadata": {
    "collapsed": false
   },
   "outputs": [],
   "source": [
    "# so this is interesting, the best parameters are somewhat different than the last GridSearch\n",
    "# this is likely the result of a difference in the settings - the good news is that we have a \n",
    "# solid bench mark for performance\n",
    "\n",
    "# lets see how this slight variation of the model performs as a Kaggle submission\n",
    "# first we set our \"best parameters\" from above\n",
    "pipe_svc.set_params(**{'clf__kernel': 'linear', 'clf__C': 10.0})\n",
    "pipe_svc.fit(make_poly(train,3).values, train.type.values)\n",
    "# then we can predict the test set\n",
    "y_pred4 = pipe_svc.predict(make_poly(test,3).values)"
   ]
  },
  {
   "cell_type": "code",
   "execution_count": 85,
   "metadata": {
    "collapsed": false
   },
   "outputs": [
    {
     "data": {
      "text/plain": [
       "array([ 44, 485])"
      ]
     },
     "execution_count": 85,
     "metadata": {},
     "output_type": "execute_result"
    }
   ],
   "source": [
    "# it looks like 44 submissions are different\n",
    "np.bincount(y_pred4 == y_pred3)"
   ]
  },
  {
   "cell_type": "code",
   "execution_count": 86,
   "metadata": {
    "collapsed": false
   },
   "outputs": [
    {
     "data": {
      "text/html": [
       "<div>\n",
       "<table border=\"1\" class=\"dataframe\">\n",
       "  <thead>\n",
       "    <tr style=\"text-align: right;\">\n",
       "      <th></th>\n",
       "      <th>id</th>\n",
       "      <th>type</th>\n",
       "    </tr>\n",
       "  </thead>\n",
       "  <tbody>\n",
       "    <tr>\n",
       "      <th>0</th>\n",
       "      <td>3</td>\n",
       "      <td>Ghoul</td>\n",
       "    </tr>\n",
       "    <tr>\n",
       "      <th>1</th>\n",
       "      <td>6</td>\n",
       "      <td>Goblin</td>\n",
       "    </tr>\n",
       "    <tr>\n",
       "      <th>2</th>\n",
       "      <td>9</td>\n",
       "      <td>Ghoul</td>\n",
       "    </tr>\n",
       "    <tr>\n",
       "      <th>3</th>\n",
       "      <td>10</td>\n",
       "      <td>Goblin</td>\n",
       "    </tr>\n",
       "    <tr>\n",
       "      <th>4</th>\n",
       "      <td>13</td>\n",
       "      <td>Ghost</td>\n",
       "    </tr>\n",
       "  </tbody>\n",
       "</table>\n",
       "</div>"
      ],
      "text/plain": [
       "   id    type\n",
       "0   3   Ghoul\n",
       "1   6  Goblin\n",
       "2   9   Ghoul\n",
       "3  10  Goblin\n",
       "4  13   Ghost"
      ]
     },
     "execution_count": 86,
     "metadata": {},
     "output_type": "execute_result"
    }
   ],
   "source": [
    "# lets see how this performs in Kaggle\n",
    "submission4 = pd.DataFrame({'id':test.id.values,'type':y_pred4})\n",
    "submission4.head()"
   ]
  },
  {
   "cell_type": "code",
   "execution_count": 87,
   "metadata": {
    "collapsed": true
   },
   "outputs": [],
   "source": [
    "submission4.to_csv('ghouls_04.csv',index=False)"
   ]
  },
  {
   "cell_type": "markdown",
   "metadata": {},
   "source": [
    "#### Kaggle Results\n",
    "This submission is worse than the previous model which was much simpler. .72 vs .74 (it is also worse than the same model as submission 3 with no color values .73) The previous model simply ran a Grid Search to figure out the hyperparameters then performed minimal feature engineering then generated a prediction. **It looks like the major take away is that nested cross validation is excellent for model comparison - but NOT for hyper-parameter selection**"
   ]
  },
  {
   "cell_type": "code",
   "execution_count": null,
   "metadata": {
    "collapsed": true
   },
   "outputs": [],
   "source": []
  }
 ],
 "metadata": {
  "kernelspec": {
   "display_name": "Python 3",
   "language": "python",
   "name": "python3"
  },
  "language_info": {
   "codemirror_mode": {
    "name": "ipython",
    "version": 3
   },
   "file_extension": ".py",
   "mimetype": "text/x-python",
   "name": "python",
   "nbconvert_exporter": "python",
   "pygments_lexer": "ipython3",
   "version": "3.5.2"
  }
 },
 "nbformat": 4,
 "nbformat_minor": 0
}
