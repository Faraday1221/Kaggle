{
 "cells": [
  {
   "cell_type": "markdown",
   "metadata": {},
   "source": [
    "# Ghouls Submissions pt.1\n",
    "The first notebook was getting a bit crowded... so I wanted to try and put some models together here.\n",
    "\n",
    "This notebook has my first 3 submissions to the Competition, Submission 3 yielded the best score on the leaderboard. The model parameters for submission 3 are from the data vizulization notebook. All models here are essentially gridsearch with cross validation in the GS."
   ]
  },
  {
   "cell_type": "code",
   "execution_count": 5,
   "metadata": {
    "collapsed": true
   },
   "outputs": [],
   "source": [
    "import pandas as pd\n",
    "import numpy as np"
   ]
  },
  {
   "cell_type": "code",
   "execution_count": 6,
   "metadata": {
    "collapsed": true
   },
   "outputs": [],
   "source": [
    "from sklearn.ensemble import RandomForestClassifier\n",
    "from sklearn.pipeline import Pipeline\n",
    "from sklearn.preprocessing import PolynomialFeatures\n",
    "from sklearn.model_selection import cross_val_score\n",
    "from sklearn.model_selection import GridSearchCV"
   ]
  },
  {
   "cell_type": "code",
   "execution_count": 7,
   "metadata": {
    "collapsed": true
   },
   "outputs": [],
   "source": [
    "train = pd.read_csv('train.csv')\n",
    "test = pd.read_csv('test.csv')"
   ]
  },
  {
   "cell_type": "code",
   "execution_count": 9,
   "metadata": {
    "collapsed": false
   },
   "outputs": [
    {
     "data": {
      "text/plain": [
       "Index(['id', 'bone_length', 'rotting_flesh', 'hair_length', 'has_soul',\n",
       "       'color', 'type'],\n",
       "      dtype='object')"
      ]
     },
     "execution_count": 9,
     "metadata": {},
     "output_type": "execute_result"
    }
   ],
   "source": [
    "train.columns"
   ]
  },
  {
   "cell_type": "code",
   "execution_count": 11,
   "metadata": {
    "collapsed": false
   },
   "outputs": [],
   "source": [
    "# lets prep our features\n",
    "dummies = pd.get_dummies(train['color'])\n",
    "X = train.drop(['id','color','type'],axis=1)\n",
    "\n",
    "# we also need to format our target variable \n",
    "type_dict = {'Ghoul':0,'Goblin':1,'Ghost':2}\n",
    "Y = train.type.map(type_dict)"
   ]
  },
  {
   "cell_type": "markdown",
   "metadata": {},
   "source": [
    "## First Submission"
   ]
  },
  {
   "cell_type": "code",
   "execution_count": 20,
   "metadata": {
    "collapsed": false
   },
   "outputs": [],
   "source": [
    "pipe_rf = Pipeline([('poly', PolynomialFeatures()),\n",
    "                    ('clf', RandomForestClassifier(random_state=1))])\n",
    "\n",
    "param_grid = [{'poly__degree':[2,3],\n",
    "               'clf__criterion':['gini','entropy'],\n",
    "               'clf__max_features':[1,2,3,4,5,6,7,8,\"sqrt\",\"log2\"],\n",
    "               'clf__min_samples_split':[1,2,3,4,5,6,7]}]\n",
    "\n",
    "gs = GridSearchCV(estimator=pipe_rf,\n",
    "                 param_grid=param_grid,\n",
    "                 scoring='accuracy',\n",
    "                 cv=10,\n",
    "                 n_jobs=-1)"
   ]
  },
  {
   "cell_type": "code",
   "execution_count": 21,
   "metadata": {
    "collapsed": false
   },
   "outputs": [
    {
     "name": "stdout",
     "output_type": "stream",
     "text": [
      "0.754716981132\n",
      "{'clf__criterion': 'entropy', 'clf__max_features': 4, 'poly__degree': 2, 'clf__min_samples_split': 1}\n"
     ]
    }
   ],
   "source": [
    "gs = gs.fit(X.values,Y.values)\n",
    "print(gs.best_score_)\n",
    "print(gs.best_params_)"
   ]
  },
  {
   "cell_type": "code",
   "execution_count": null,
   "metadata": {
    "collapsed": true
   },
   "outputs": [],
   "source": []
  },
  {
   "cell_type": "code",
   "execution_count": null,
   "metadata": {
    "collapsed": true
   },
   "outputs": [],
   "source": []
  },
  {
   "cell_type": "code",
   "execution_count": null,
   "metadata": {
    "collapsed": true
   },
   "outputs": [],
   "source": []
  },
  {
   "cell_type": "code",
   "execution_count": 126,
   "metadata": {
    "collapsed": false
   },
   "outputs": [
    {
     "name": "stdout",
     "output_type": "stream",
     "text": [
      "CV Accuracy: 0.754 +/- 0.042\n"
     ]
    }
   ],
   "source": [
    "# or more simply\n",
    "pipe_rf = Pipeline([('poly', PolynomialFeatures(degree=2)),\n",
    "                    ('clf', RandomForestClassifier( criterion='entropy',\n",
    "                                                    max_features=4,\n",
    "                                                    min_samples_split=1,\n",
    "                                                    random_state=1))])\n",
    "\n",
    "scores = cross_val_score(pipe_rf,X.values,Y.values,cv=10)\n",
    "print('CV Accuracy: {0:.3f} +/- {1:.3f}'.format(np.mean(scores),np.std(scores)))"
   ]
  },
  {
   "cell_type": "code",
   "execution_count": 129,
   "metadata": {
    "collapsed": false
   },
   "outputs": [
    {
     "data": {
      "text/plain": [
       "Pipeline(steps=[('poly', PolynomialFeatures(degree=2, include_bias=True, interaction_only=False)), ('clf', RandomForestClassifier(bootstrap=True, class_weight=None, criterion='entropy',\n",
       "            max_depth=None, max_features=4, max_leaf_nodes=None,\n",
       "            min_impurity_split=1e-07, min_samples_leaf=1,\n",
       "            min_samples_split=1, min_weight_fraction_leaf=0.0,\n",
       "            n_estimators=10, n_jobs=1, oob_score=False, random_state=1,\n",
       "            verbose=0, warm_start=False))])"
      ]
     },
     "execution_count": 129,
     "metadata": {},
     "output_type": "execute_result"
    }
   ],
   "source": [
    "# now we can use the pipe above to generate our predicitons\n",
    "pipe_rf.fit(X.values,Y.values)"
   ]
  },
  {
   "cell_type": "code",
   "execution_count": 130,
   "metadata": {
    "collapsed": true
   },
   "outputs": [],
   "source": [
    "rf_pred = pipe_rf.predict(test.drop(['id','color'],axis=1))"
   ]
  },
  {
   "cell_type": "code",
   "execution_count": 131,
   "metadata": {
    "collapsed": false
   },
   "outputs": [
    {
     "data": {
      "text/plain": [
       "array([0, 1, 0, 1, 2, 2, 0, 0, 1, 0, 2, 0, 0, 1, 0, 2, 1, 2, 2, 0, 0, 1, 1,\n",
       "       1, 0, 1, 0, 1, 0, 0, 0, 0, 0, 1, 1, 0, 2, 0, 2, 0, 1, 1, 1, 0, 1, 0,\n",
       "       0, 0, 0, 1, 1, 1, 2, 1, 1, 2, 1, 1, 0, 2, 0, 1, 2, 1, 0, 0, 0, 0, 1,\n",
       "       0, 1, 2, 0, 0, 0, 0, 0, 1, 2, 1, 1, 0, 0, 0, 2, 2, 2, 1, 2, 2, 2, 2,\n",
       "       1, 1, 2, 2, 1, 1, 0, 1, 0, 1, 0, 1, 0, 1, 0, 2, 0, 0, 2, 1, 2, 1, 0,\n",
       "       1, 2, 1, 0, 2, 0, 2, 2, 0, 0, 2, 2, 2, 0, 0, 2, 1, 1, 0, 1, 1, 0, 0,\n",
       "       1, 1, 0, 1, 2, 0, 0, 2, 0, 2, 2, 1, 1, 0, 0, 1, 1, 2, 0, 0, 2, 0, 0,\n",
       "       1, 1, 1, 2, 2, 1, 2, 1, 2, 2, 0, 2, 0, 0, 0, 1, 0, 0, 0, 2, 2, 0, 2,\n",
       "       2, 1, 0, 0, 0, 2, 2, 0, 1, 2, 0, 1, 1, 0, 0, 0, 2, 2, 2, 2, 1, 2, 1,\n",
       "       2, 1, 0, 1, 1, 2, 2, 1, 1, 0, 2, 0, 1, 1, 1, 0, 0, 0, 1, 2, 2, 1, 2,\n",
       "       1, 0, 2, 2, 2, 0, 2, 0, 1, 1, 2, 2, 2, 2, 1, 2, 1, 2, 1, 1, 2, 1, 2,\n",
       "       1, 0, 1, 2, 0, 2, 2, 2, 1, 2, 1, 1, 1, 0, 0, 1, 2, 0, 1, 2, 1, 0, 0,\n",
       "       1, 0, 1, 2, 2, 1, 0, 0, 0, 1, 1, 0, 1, 2, 0, 2, 0, 1, 1, 1, 2, 1, 2,\n",
       "       1, 1, 1, 2, 2, 0, 0, 1, 0, 2, 0, 0, 0, 1, 2, 2, 1, 1, 2, 2, 1, 2, 1,\n",
       "       0, 1, 2, 1, 2, 1, 2, 0, 0, 1, 1, 2, 2, 0, 2, 0, 0, 0, 0, 1, 1, 1, 2,\n",
       "       1, 2, 1, 2, 0, 0, 2, 0, 2, 0, 0, 1, 2, 2, 0, 1, 2, 1, 2, 1, 0, 0, 1,\n",
       "       1, 0, 1, 2, 0, 2, 1, 1, 0, 2, 1, 0, 0, 2, 2, 1, 1, 2, 2, 2, 1, 2, 0,\n",
       "       0, 2, 1, 1, 1, 0, 1, 2, 0, 1, 0, 0, 0, 2, 0, 0, 2, 1, 2, 2, 2, 0, 2,\n",
       "       0, 2, 1, 0, 0, 2, 2, 0, 0, 0, 2, 2, 0, 1, 1, 2, 0, 1, 1, 1, 1, 0, 1,\n",
       "       2, 0, 2, 0, 0, 2, 2, 2, 0, 2, 0, 1, 0, 0, 0, 1, 0, 0, 2, 1, 2, 0, 1,\n",
       "       2, 2, 0, 0, 1, 0, 2, 0, 0, 2, 0, 0, 0, 0, 2, 2, 1, 2, 2, 1, 1, 0, 2,\n",
       "       1, 2, 1, 2, 2, 2, 0, 2, 0, 0, 2, 0, 2, 0, 0, 1, 2, 1, 2, 2, 0, 0, 2,\n",
       "       0, 2, 0, 1, 1, 0, 2, 2, 0, 0, 0, 1, 1, 2, 0, 1, 0, 0, 1, 2, 0, 2, 2])"
      ]
     },
     "execution_count": 131,
     "metadata": {},
     "output_type": "execute_result"
    }
   ],
   "source": [
    "rf_pred"
   ]
  },
  {
   "cell_type": "code",
   "execution_count": null,
   "metadata": {
    "collapsed": true
   },
   "outputs": [],
   "source": []
  },
  {
   "cell_type": "code",
   "execution_count": null,
   "metadata": {
    "collapsed": true
   },
   "outputs": [],
   "source": []
  },
  {
   "cell_type": "code",
   "execution_count": 52,
   "metadata": {
    "collapsed": false
   },
   "outputs": [
    {
     "data": {
      "text/plain": [
       "RandomForestClassifier(bootstrap=True, class_weight=None, criterion='entropy',\n",
       "            max_depth=None, max_features=4, max_leaf_nodes=None,\n",
       "            min_impurity_split=1e-07, min_samples_leaf=1,\n",
       "            min_samples_split=1, min_weight_fraction_leaf=0.0,\n",
       "            n_estimators=10, n_jobs=1, oob_score=False, random_state=1,\n",
       "            verbose=0, warm_start=False)"
      ]
     },
     "execution_count": 52,
     "metadata": {},
     "output_type": "execute_result"
    }
   ],
   "source": [
    "# setting up a model based on above to predict results - BASICALLY I DONT KNOW HOW TO USE THE PIPE TO PREDICT!\n",
    "poly = PolynomialFeatures(degree=2)\n",
    "clf = RandomForestClassifier( criterion='entropy',\n",
    "                              max_features=4,\n",
    "                              min_samples_split=1,\n",
    "                              random_state=1)\n",
    "\n",
    "clf.fit(poly.fit_transform(X.values),Y.values)"
   ]
  },
  {
   "cell_type": "code",
   "execution_count": 53,
   "metadata": {
    "collapsed": false
   },
   "outputs": [],
   "source": [
    "# a small transform of our test data such that we can make predicitons\n",
    "test_ = poly.fit_transform(test.drop(['id','color'],axis=1))\n",
    "\n",
    "# making the prediction\n",
    "y_pred = clf.predict(test_)"
   ]
  },
  {
   "cell_type": "code",
   "execution_count": 70,
   "metadata": {
    "collapsed": false
   },
   "outputs": [
    {
     "data": {
      "text/html": [
       "<div>\n",
       "<table border=\"1\" class=\"dataframe\">\n",
       "  <thead>\n",
       "    <tr style=\"text-align: right;\">\n",
       "      <th></th>\n",
       "      <th>id</th>\n",
       "      <th>type</th>\n",
       "    </tr>\n",
       "  </thead>\n",
       "  <tbody>\n",
       "    <tr>\n",
       "      <th>0</th>\n",
       "      <td>3</td>\n",
       "      <td>Ghoul</td>\n",
       "    </tr>\n",
       "    <tr>\n",
       "      <th>1</th>\n",
       "      <td>6</td>\n",
       "      <td>Goblin</td>\n",
       "    </tr>\n",
       "    <tr>\n",
       "      <th>2</th>\n",
       "      <td>9</td>\n",
       "      <td>Ghoul</td>\n",
       "    </tr>\n",
       "    <tr>\n",
       "      <th>3</th>\n",
       "      <td>10</td>\n",
       "      <td>Goblin</td>\n",
       "    </tr>\n",
       "    <tr>\n",
       "      <th>4</th>\n",
       "      <td>13</td>\n",
       "      <td>Ghost</td>\n",
       "    </tr>\n",
       "  </tbody>\n",
       "</table>\n",
       "</div>"
      ],
      "text/plain": [
       "   id    type\n",
       "0   3   Ghoul\n",
       "1   6  Goblin\n",
       "2   9   Ghoul\n",
       "3  10  Goblin\n",
       "4  13   Ghost"
      ]
     },
     "execution_count": 70,
     "metadata": {},
     "output_type": "execute_result"
    }
   ],
   "source": [
    "# make submission\n",
    "submission = pd.DataFrame({'id':test.id,'type':y_pred})\n",
    "reverse_dict = {0:'Ghoul',1:'Goblin',2:'Ghost'}\n",
    "submission['type'] = submission.type.map(reverse_dict)\n",
    "\n",
    "submission.head()"
   ]
  },
  {
   "cell_type": "code",
   "execution_count": 71,
   "metadata": {
    "collapsed": false
   },
   "outputs": [],
   "source": [
    "submission.to_csv('ghouls_01.csv',index=False)"
   ]
  },
  {
   "cell_type": "markdown",
   "metadata": {},
   "source": [
    "## Second Submission"
   ]
  },
  {
   "cell_type": "code",
   "execution_count": 85,
   "metadata": {
    "collapsed": false
   },
   "outputs": [],
   "source": [
    "# the first day GS came up with this: {'clf__criterion': 'gini', 'clf__min_samples_split': 5, 'clf__max_features': 4}\n",
    "clf = RandomForestClassifier(criterion='gini',min_samples_split=5,max_features=4)\n",
    "\n",
    "x = pd.get_dummies(train.drop(['id','type'],axis=1))\n",
    "y = train.type.map(type_dict)\n",
    "clf.fit(x.values, y)\n",
    "\n",
    "y_test = pd.get_dummies(test.drop(['id'],axis=1))\n",
    "y_pred2 = clf.predict(y_test.values)"
   ]
  },
  {
   "cell_type": "code",
   "execution_count": 88,
   "metadata": {
    "collapsed": false
   },
   "outputs": [
    {
     "data": {
      "text/html": [
       "<div>\n",
       "<table border=\"1\" class=\"dataframe\">\n",
       "  <thead>\n",
       "    <tr style=\"text-align: right;\">\n",
       "      <th></th>\n",
       "      <th>id</th>\n",
       "      <th>type</th>\n",
       "    </tr>\n",
       "  </thead>\n",
       "  <tbody>\n",
       "    <tr>\n",
       "      <th>0</th>\n",
       "      <td>3</td>\n",
       "      <td>Ghoul</td>\n",
       "    </tr>\n",
       "    <tr>\n",
       "      <th>1</th>\n",
       "      <td>6</td>\n",
       "      <td>Goblin</td>\n",
       "    </tr>\n",
       "    <tr>\n",
       "      <th>2</th>\n",
       "      <td>9</td>\n",
       "      <td>Ghoul</td>\n",
       "    </tr>\n",
       "    <tr>\n",
       "      <th>3</th>\n",
       "      <td>10</td>\n",
       "      <td>Ghost</td>\n",
       "    </tr>\n",
       "    <tr>\n",
       "      <th>4</th>\n",
       "      <td>13</td>\n",
       "      <td>Ghost</td>\n",
       "    </tr>\n",
       "  </tbody>\n",
       "</table>\n",
       "</div>"
      ],
      "text/plain": [
       "   id    type\n",
       "0   3   Ghoul\n",
       "1   6  Goblin\n",
       "2   9   Ghoul\n",
       "3  10   Ghost\n",
       "4  13   Ghost"
      ]
     },
     "execution_count": 88,
     "metadata": {},
     "output_type": "execute_result"
    }
   ],
   "source": [
    "submission2 = pd.DataFrame({'id':test.id,'type':y_pred2})\n",
    "reverse_dict = {0:'Ghoul',1:'Goblin',2:'Ghost'}\n",
    "submission2['type'] = submission2.type.map(reverse_dict)\n",
    "\n",
    "submission2.head()"
   ]
  },
  {
   "cell_type": "code",
   "execution_count": 89,
   "metadata": {
    "collapsed": false,
    "scrolled": true
   },
   "outputs": [
    {
     "data": {
      "text/plain": [
       "0       True\n",
       "1       True\n",
       "2       True\n",
       "3      False\n",
       "4       True\n",
       "5       True\n",
       "6       True\n",
       "7      False\n",
       "8       True\n",
       "9       True\n",
       "10      True\n",
       "11      True\n",
       "12     False\n",
       "13     False\n",
       "14      True\n",
       "15      True\n",
       "16      True\n",
       "17      True\n",
       "18      True\n",
       "19      True\n",
       "20      True\n",
       "21     False\n",
       "22      True\n",
       "23      True\n",
       "24     False\n",
       "25      True\n",
       "26      True\n",
       "27     False\n",
       "28      True\n",
       "29      True\n",
       "       ...  \n",
       "499     True\n",
       "500     True\n",
       "501     True\n",
       "502     True\n",
       "503    False\n",
       "504     True\n",
       "505     True\n",
       "506     True\n",
       "507     True\n",
       "508     True\n",
       "509     True\n",
       "510    False\n",
       "511     True\n",
       "512     True\n",
       "513     True\n",
       "514     True\n",
       "515     True\n",
       "516     True\n",
       "517     True\n",
       "518     True\n",
       "519     True\n",
       "520     True\n",
       "521     True\n",
       "522     True\n",
       "523     True\n",
       "524     True\n",
       "525     True\n",
       "526     True\n",
       "527     True\n",
       "528     True\n",
       "Name: type, dtype: bool"
      ]
     },
     "execution_count": 89,
     "metadata": {},
     "output_type": "execute_result"
    }
   ],
   "source": [
    "# before we submit lets just make sure this isnt the same submission 2x\n",
    "submission.type == submission2.type"
   ]
  },
  {
   "cell_type": "code",
   "execution_count": 90,
   "metadata": {
    "collapsed": true
   },
   "outputs": [],
   "source": [
    "submission2.to_csv('ghouls_02.csv',index=False)"
   ]
  },
  {
   "cell_type": "markdown",
   "metadata": {},
   "source": [
    "## Submission 3"
   ]
  },
  {
   "cell_type": "code",
   "execution_count": 91,
   "metadata": {
    "collapsed": true
   },
   "outputs": [],
   "source": [
    "# Fuck it lets try SVC {'clf__kernel': 'rbf', 'clf__gamma': 0.01, 'clf__C': 10.0}\n",
    "from sklearn.svm import SVC"
   ]
  },
  {
   "cell_type": "code",
   "execution_count": 108,
   "metadata": {
    "collapsed": false
   },
   "outputs": [],
   "source": [
    "def make_poly(df,n):\n",
    "    \"\"\"make a poly and add back in dummies\"\"\"\n",
    "    poly = PolynomialFeatures(degree=n)\n",
    "    if 'type' in df.columns:\n",
    "        df = df.drop(['type'],axis=1)\n",
    "    train_poly = poly.fit_transform(df.drop(['id','color'],axis=1).values)\n",
    "    dummies = pd.get_dummies(df.color)\n",
    "    t = pd.DataFrame(train_poly)\n",
    "    return pd.concat([t,dummies],axis=1)"
   ]
  },
  {
   "cell_type": "code",
   "execution_count": 111,
   "metadata": {
    "collapsed": false
   },
   "outputs": [
    {
     "data": {
      "text/plain": [
       "SVC(C=10, cache_size=200, class_weight=None, coef0=0.0,\n",
       "  decision_function_shape=None, degree=3, gamma=0.01, kernel='rbf',\n",
       "  max_iter=-1, probability=False, random_state=1, shrinking=True,\n",
       "  tol=0.001, verbose=False)"
      ]
     },
     "execution_count": 111,
     "metadata": {},
     "output_type": "execute_result"
    }
   ],
   "source": [
    "clf = SVC(kernel='rbf',gamma=0.01,C=10,random_state=1)\n",
    "\n",
    "clf.fit(make_poly(train,3).values, train.type.values)"
   ]
  },
  {
   "cell_type": "code",
   "execution_count": 112,
   "metadata": {
    "collapsed": true
   },
   "outputs": [],
   "source": [
    "y_pred3 = clf.predict(make_poly(test,3).values)"
   ]
  },
  {
   "cell_type": "code",
   "execution_count": 118,
   "metadata": {
    "collapsed": false
   },
   "outputs": [
    {
     "data": {
      "text/plain": [
       "array(['Ghoul', 'Goblin', 'Ghoul', 'Ghost', 'Ghost', 'Ghost', 'Ghoul',\n",
       "       'Ghoul', 'Goblin', 'Ghoul'], dtype=object)"
      ]
     },
     "execution_count": 118,
     "metadata": {},
     "output_type": "execute_result"
    }
   ],
   "source": [
    "y_pred3[:10]"
   ]
  },
  {
   "cell_type": "code",
   "execution_count": 119,
   "metadata": {
    "collapsed": false
   },
   "outputs": [
    {
     "data": {
      "text/html": [
       "<div>\n",
       "<table border=\"1\" class=\"dataframe\">\n",
       "  <thead>\n",
       "    <tr style=\"text-align: right;\">\n",
       "      <th></th>\n",
       "      <th>id</th>\n",
       "      <th>type</th>\n",
       "    </tr>\n",
       "  </thead>\n",
       "  <tbody>\n",
       "    <tr>\n",
       "      <th>0</th>\n",
       "      <td>3</td>\n",
       "      <td>Ghoul</td>\n",
       "    </tr>\n",
       "    <tr>\n",
       "      <th>1</th>\n",
       "      <td>6</td>\n",
       "      <td>Goblin</td>\n",
       "    </tr>\n",
       "    <tr>\n",
       "      <th>2</th>\n",
       "      <td>9</td>\n",
       "      <td>Ghoul</td>\n",
       "    </tr>\n",
       "    <tr>\n",
       "      <th>3</th>\n",
       "      <td>10</td>\n",
       "      <td>Ghost</td>\n",
       "    </tr>\n",
       "    <tr>\n",
       "      <th>4</th>\n",
       "      <td>13</td>\n",
       "      <td>Ghost</td>\n",
       "    </tr>\n",
       "  </tbody>\n",
       "</table>\n",
       "</div>"
      ],
      "text/plain": [
       "   id    type\n",
       "0   3   Ghoul\n",
       "1   6  Goblin\n",
       "2   9   Ghoul\n",
       "3  10   Ghost\n",
       "4  13   Ghost"
      ]
     },
     "execution_count": 119,
     "metadata": {},
     "output_type": "execute_result"
    }
   ],
   "source": [
    "submission3 = pd.DataFrame({'id':test.id,'type':y_pred3})\n",
    "\n",
    "submission3.head()"
   ]
  },
  {
   "cell_type": "code",
   "execution_count": 121,
   "metadata": {
    "collapsed": false,
    "scrolled": true
   },
   "outputs": [],
   "source": [
    "submission3.to_csv('ghouls_03.csv',index=False)"
   ]
  },
  {
   "cell_type": "code",
   "execution_count": null,
   "metadata": {
    "collapsed": true
   },
   "outputs": [],
   "source": []
  }
 ],
 "metadata": {
  "kernelspec": {
   "display_name": "Python 3",
   "language": "python",
   "name": "python3"
  },
  "language_info": {
   "codemirror_mode": {
    "name": "ipython",
    "version": 3
   },
   "file_extension": ".py",
   "mimetype": "text/x-python",
   "name": "python",
   "nbconvert_exporter": "python",
   "pygments_lexer": "ipython3",
   "version": "3.5.2"
  }
 },
 "nbformat": 4,
 "nbformat_minor": 0
}
