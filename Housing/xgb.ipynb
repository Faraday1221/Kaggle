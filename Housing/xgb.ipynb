{
 "cells": [
  {
   "cell_type": "markdown",
   "metadata": {},
   "source": [
    "# XGBoost First Look\n",
    "\n",
    "- [analytics vidyha overview](https://www.analyticsvidhya.com/blog/2016/03/complete-guide-parameter-tuning-xgboost-with-codes-python/)\n",
    "- [parameters for xgboost](https://github.com/dmlc/xgboost/blob/master/doc/parameter.md)"
   ]
  },
  {
   "cell_type": "code",
   "execution_count": 1,
   "metadata": {
    "collapsed": false
   },
   "outputs": [
    {
     "name": "stderr",
     "output_type": "stream",
     "text": [
      "/Library/anaconda/lib/python2.7/site-packages/sklearn/cross_validation.py:44: DeprecationWarning: This module was deprecated in version 0.18 in favor of the model_selection module into which all the refactored classes and functions are moved. Also note that the interface of the new CV iterators are different from that of this module. This module will be removed in 0.20.\n",
      "  \"This module will be removed in 0.20.\", DeprecationWarning)\n"
     ]
    }
   ],
   "source": [
    "import numpy as np\n",
    "import pandas as pd\n",
    "import xgboost\n",
    "\n",
    "from sklearn.model_selection import train_test_split\n",
    "from sklearn.metrics import mean_squared_error\n",
    "from sklearn.model_selection import KFold\n",
    "from sklearn.model_selection import GridSearchCV\n",
    "from sklearn.model_selection import cross_val_score\n",
    "import matplotlib.pyplot as plt\n",
    "\n",
    "%matplotlib inline\n",
    "\n",
    "seed = 0"
   ]
  },
  {
   "cell_type": "markdown",
   "metadata": {},
   "source": [
    "### Importing the Engineered Feature Set"
   ]
  },
  {
   "cell_type": "code",
   "execution_count": 2,
   "metadata": {
    "collapsed": true
   },
   "outputs": [],
   "source": [
    "from feature_eng import feature_eng_02\n",
    "\n",
    "# load the dataset\n",
    "path = '/Users/jonbruno/Documents/Python/Kaggle/Housing/data/'\n",
    "train = pd.read_csv(path+'train.csv')\n",
    "test = pd.read_csv(path+'test.csv')\n",
    "\n",
    "# perform all feature engineering\n",
    "train,test = feature_eng_02(train,test)\n",
    "\n",
    "X = train.drop(['Id','SalePrice'],axis=1)\n",
    "y = train.SalePrice\n",
    "X_test = test.drop(['Id'],axis=1)"
   ]
  },
  {
   "cell_type": "markdown",
   "metadata": {},
   "source": [
    "### Simple XGBoost Model - No Tuning\n",
    "[Mini Course](http://machinelearningmastery.com/xgboost-python-mini-course/)"
   ]
  },
  {
   "cell_type": "code",
   "execution_count": 3,
   "metadata": {
    "collapsed": false
   },
   "outputs": [
    {
     "name": "stdout",
     "output_type": "stream",
     "text": [
      "MSE: 0.0160925632873\n"
     ]
    }
   ],
   "source": [
    "test_size = 0.33\n",
    "X_train, X_test, y_train, y_test = train_test_split(X, y,\n",
    "                                    test_size=test_size,\n",
    "                                    random_state=seed)\n",
    "# fit model no training data\n",
    "model = xgboost.XGBRegressor()\n",
    "model.fit(X_train, y_train)\n",
    "# make predictions for test data\n",
    "y_pred = model.predict(X_test)\n",
    "\n",
    "# evaluate predictions\n",
    "mse = mean_squared_error(y_test, y_pred)\n",
    "print(\"MSE: %s\" % (mse))\n"
   ]
  },
  {
   "cell_type": "markdown",
   "metadata": {},
   "source": [
    "### Tuning a Model with GridSearch Cross Validation"
   ]
  },
  {
   "cell_type": "code",
   "execution_count": 30,
   "metadata": {
    "collapsed": false,
    "scrolled": true
   },
   "outputs": [
    {
     "name": "stdout",
     "output_type": "stream",
     "text": [
      "Best: -0.018653 using {'n_estimators': 400, 'max_depth': 2}\n",
      "-0.020534 (0.005664) with: {'n_estimators': 100, 'max_depth': 2}\n",
      "-0.019129 (0.006158) with: {'n_estimators': 200, 'max_depth': 2}\n",
      "-0.018653 (0.006497) with: {'n_estimators': 400, 'max_depth': 2}\n",
      "-0.018817 (0.006109) with: {'n_estimators': 800, 'max_depth': 2}\n",
      "-0.019980 (0.005602) with: {'n_estimators': 100, 'max_depth': 3}\n",
      "-0.019183 (0.005663) with: {'n_estimators': 200, 'max_depth': 3}\n",
      "-0.019152 (0.005609) with: {'n_estimators': 400, 'max_depth': 3}\n",
      "-0.019411 (0.005671) with: {'n_estimators': 800, 'max_depth': 3}\n",
      "-0.019791 (0.005663) with: {'n_estimators': 100, 'max_depth': 5}\n",
      "-0.019409 (0.005549) with: {'n_estimators': 200, 'max_depth': 5}\n",
      "-0.019430 (0.005652) with: {'n_estimators': 400, 'max_depth': 5}\n",
      "-0.019457 (0.005644) with: {'n_estimators': 800, 'max_depth': 5}\n",
      "-0.020518 (0.005689) with: {'n_estimators': 100, 'max_depth': 8}\n",
      "-0.020441 (0.005677) with: {'n_estimators': 200, 'max_depth': 8}\n",
      "-0.020458 (0.005665) with: {'n_estimators': 400, 'max_depth': 8}\n",
      "-0.020458 (0.005665) with: {'n_estimators': 800, 'max_depth': 8}\n"
     ]
    }
   ],
   "source": [
    "# \"learning_rate\":[0.01, 0.1, 0.3, 0.9]\n",
    "param_grid =  {\"max_depth\":[2,3,5,8],\n",
    "               \"n_estimators\":[100,200,400,800]}\n",
    "model = xgboost.XGBRegressor(learning_rate=0.1)\n",
    "kfold = KFold(n_splits=10, shuffle=True, random_state=seed)\n",
    "grid_search = GridSearchCV(model, param_grid,\n",
    "                            scoring=\"neg_mean_squared_error\",\n",
    "                            n_jobs=1,\n",
    "                            cv=kfold)\n",
    "\n",
    "grid_result = grid_search.fit(X_train, y_train)\n",
    "\n",
    "# summarize results\n",
    "print(\"Best: %f using %s\" % (grid_result.best_score_, grid_result.best_params_))\n",
    "means = grid_result.cv_results_['mean_test_score']\n",
    "stds = grid_result.cv_results_['std_test_score']\n",
    "params = grid_result.cv_results_['params']\n",
    "for mean, stdev, param in zip(means, stds, params):\n",
    "    print(\"%f (%f) with: %r\" % (mean, stdev, param))"
   ]
  },
  {
   "cell_type": "code",
   "execution_count": 31,
   "metadata": {
    "collapsed": false
   },
   "outputs": [
    {
     "data": {
      "text/plain": [
       "XGBRegressor(base_score=0.5, colsample_bylevel=1, colsample_bytree=1, gamma=0,\n",
       "       learning_rate=0.1, max_delta_step=0, max_depth=2,\n",
       "       min_child_weight=1, missing=None, n_estimators=400, nthread=-1,\n",
       "       objective='reg:linear', reg_alpha=0, reg_lambda=1,\n",
       "       scale_pos_weight=1, seed=0, silent=True, subsample=1)"
      ]
     },
     "execution_count": 31,
     "metadata": {},
     "output_type": "execute_result"
    }
   ],
   "source": [
    "grid_result.best_estimator_"
   ]
  },
  {
   "cell_type": "code",
   "execution_count": 33,
   "metadata": {
    "collapsed": false
   },
   "outputs": [
    {
     "name": "stdout",
     "output_type": "stream",
     "text": [
      "MSE: 0.0160513557296\n"
     ]
    }
   ],
   "source": [
    "# evaluate the tuned model\n",
    "y_pred = grid_result.predict(X_test)\n",
    "\n",
    "# evaluate predictions\n",
    "mse = mean_squared_error(y_test, y_pred)\n",
    "print(\"MSE: %s\" % (mse))"
   ]
  },
  {
   "cell_type": "code",
   "execution_count": null,
   "metadata": {
    "collapsed": true
   },
   "outputs": [],
   "source": [
    "# best general results depth=3, rate=0.1, n_estimators=400"
   ]
  },
  {
   "cell_type": "markdown",
   "metadata": {},
   "source": [
    "### Data Prep XGBoost\n",
    "http://machinelearningmastery.com/data-preparation-gradient-boosting-xgboost-python/"
   ]
  },
  {
   "cell_type": "markdown",
   "metadata": {},
   "source": [
    "### Feature Importance\n",
    "[Mini Course](http://machinelearningmastery.com/xgboost-python-mini-course/)"
   ]
  },
  {
   "cell_type": "code",
   "execution_count": 4,
   "metadata": {
    "collapsed": false
   },
   "outputs": [
    {
     "data": {
      "image/png": "[encoded data removed]",
      "text/plain": [
       "<matplotlib.figure.Figure at 0x1037e5890>"
      ]
     },
     "metadata": {},
     "output_type": "display_data"
    }
   ],
   "source": [
    "# NOTE: there are no feature_importances_ for Regression, instead  shows f-score\n",
    "# print(model.feature_importance_)\n",
    "xgboost.plot_importance(model)\n",
    "plt.show()"
   ]
  },
  {
   "cell_type": "markdown",
   "metadata": {},
   "source": [
    "### Feature Selection\n",
    "http://machinelearningmastery.com/feature-importance-and-feature-selection-with-xgboost-in-python/\n",
    "\n",
    "\n",
    "Another feature selection strategy is presented in the above link. The strategy steps through threshold values, corresponding to feature importances, and selects which features to include in a model. Thus we can use a pre-trained model to then test subsets of features and see how well the model performs."
   ]
  },
  {
   "cell_type": "markdown",
   "metadata": {},
   "source": [
    "### Classificaiton"
   ]
  },
  {
   "cell_type": "code",
   "execution_count": 5,
   "metadata": {
    "collapsed": true
   },
   "outputs": [],
   "source": [
    "from sklearn.feature_selection import SelectFromModel"
   ]
  },
  {
   "cell_type": "code",
   "execution_count": null,
   "metadata": {
    "collapsed": false
   },
   "outputs": [],
   "source": [
    "# this works for classification\n",
    "thresholds = np.sort(model.feature_importances_)\n",
    "thresholds = np.sort(model)\n",
    "\n",
    "for thresh in thresholds:\n",
    "    # select features using threshold\n",
    "    selection = SelectFromModel(model, threshold=thresh, prefit=True)\n",
    "    select_X_train = selection.transform(X_train)\n",
    "    # train model\n",
    "    selection_model = XGBClassifier()\n",
    "    selection_model.fit(select_X_train, y_train)\n",
    "    # eval model\n",
    "    select_X_test = selection.transform(X_test)\n",
    "    y_pred = selection_model.predict(select_X_test)\n",
    "    \n",
    "    predictions = [round(value) for value in y_pred]\n",
    "    accuracy = accuracy_score(y_test, predictions)\n",
    "    print(\"Thresh=%.3f, n=%d, Accuracy: %.2f%%\" % (thresh, select_X_train.shape[1], accuracy*100.0))\n",
    "    "
   ]
  },
  {
   "cell_type": "markdown",
   "metadata": {},
   "source": [
    "### Regression - Needs a Fix"
   ]
  },
  {
   "cell_type": "markdown",
   "metadata": {},
   "source": [
    "#### Challanges with Regression Feature Selection and the F-score\n",
    "regression doesnt explicetly let you grab f-scores which is helpful in liu of feature importance\n",
    "[this blog](https://czong.wordpress.com/2016/07/14/xgboost-how-to-get-feature-importance-use-get_fscore-within-sklearn-wrapper/) provides more detail. **However I haven't invested the time to ferret this functionality out**\n"
   ]
  },
  {
   "cell_type": "code",
   "execution_count": null,
   "metadata": {
    "collapsed": true
   },
   "outputs": [],
   "source": [
    "# NEED TO FIX THIS TO USE GET_FSCORE!!\n",
    "thresholds = np.sort(model.feature_importances_)\n",
    "\n",
    "for thresh in thresholds:\n",
    "    # select features using threshold\n",
    "    selection = SelectFromModel(model, threshold=thresh, prefit=True)\n",
    "    select_X_train = selection.transform(X_train)\n",
    "    # train model\n",
    "    selection_model = XGBClassifier()\n",
    "    selection_model.fit(select_X_train, y_train)\n",
    "    # eval model\n",
    "    select_X_test = selection.transform(X_test)\n",
    "    y_pred = selection_model.predict(select_X_test)\n",
    "    \n",
    "    # for a regression model as per here\n",
    "    mse = mean_squared_error(y_test, y_pred)\n",
    "    print(\"Thresh=%.3f, n=%d, MSE: %.2f%%\" % (thresh, select_X_train.shape[1], mse*100.0))"
   ]
  },
  {
   "cell_type": "markdown",
   "metadata": {},
   "source": [
    "### Monitoring Performance and Early Stopping\n",
    "- [Early Stopping](http://machinelearningmastery.com/avoid-overfitting-by-early-stopping-with-xgboost-in-python/)\n",
    "- [Model Evaluation](http://machinelearningmastery.com/evaluate-gradient-boosting-models-xgboost-python/)"
   ]
  },
  {
   "cell_type": "code",
   "execution_count": 9,
   "metadata": {
    "collapsed": false,
    "scrolled": true
   },
   "outputs": [
    {
     "name": "stdout",
     "output_type": "stream",
     "text": [
      "[0]\tvalidation_0-rmse:10.376\n",
      "Will train until validation_0-rmse hasn't improved in 10 rounds.\n",
      "[1]\tvalidation_0-rmse:9.34042\n",
      "[2]\tvalidation_0-rmse:8.40845\n",
      "[3]\tvalidation_0-rmse:7.56973\n",
      "[4]\tvalidation_0-rmse:6.81483\n",
      "[5]\tvalidation_0-rmse:6.1377\n",
      "[6]\tvalidation_0-rmse:5.52612\n",
      "[7]\tvalidation_0-rmse:4.97736\n",
      "[8]\tvalidation_0-rmse:4.48228\n",
      "[9]\tvalidation_0-rmse:4.03725\n",
      "[10]\tvalidation_0-rmse:3.63502\n",
      "[11]\tvalidation_0-rmse:3.27389\n",
      "[12]\tvalidation_0-rmse:2.95062\n",
      "[13]\tvalidation_0-rmse:2.65808\n",
      "[14]\tvalidation_0-rmse:2.39619\n",
      "[15]\tvalidation_0-rmse:2.16033\n",
      "[16]\tvalidation_0-rmse:1.94709\n",
      "[17]\tvalidation_0-rmse:1.7555\n",
      "[18]\tvalidation_0-rmse:1.58438\n",
      "[19]\tvalidation_0-rmse:1.42883\n",
      "[20]\tvalidation_0-rmse:1.28876\n",
      "[21]\tvalidation_0-rmse:1.1642\n",
      "[22]\tvalidation_0-rmse:1.05165\n",
      "[23]\tvalidation_0-rmse:0.951037\n",
      "[24]\tvalidation_0-rmse:0.859813\n",
      "[25]\tvalidation_0-rmse:0.777856\n",
      "[26]\tvalidation_0-rmse:0.703857\n",
      "[27]\tvalidation_0-rmse:0.637806\n",
      "[28]\tvalidation_0-rmse:0.577884\n",
      "[29]\tvalidation_0-rmse:0.525135\n",
      "[30]\tvalidation_0-rmse:0.477292\n",
      "[31]\tvalidation_0-rmse:0.434598\n",
      "[32]\tvalidation_0-rmse:0.396178\n",
      "[33]\tvalidation_0-rmse:0.362942\n",
      "[34]\tvalidation_0-rmse:0.332264\n",
      "[35]\tvalidation_0-rmse:0.305468\n",
      "[36]\tvalidation_0-rmse:0.282202\n",
      "[37]\tvalidation_0-rmse:0.261744\n",
      "[38]\tvalidation_0-rmse:0.243368\n",
      "[39]\tvalidation_0-rmse:0.2274\n",
      "[40]\tvalidation_0-rmse:0.213377\n",
      "[41]\tvalidation_0-rmse:0.201936\n",
      "[42]\tvalidation_0-rmse:0.191609\n",
      "[43]\tvalidation_0-rmse:0.182298\n",
      "[44]\tvalidation_0-rmse:0.174309\n",
      "[45]\tvalidation_0-rmse:0.168309\n",
      "[46]\tvalidation_0-rmse:0.162969\n",
      "[47]\tvalidation_0-rmse:0.158086\n",
      "[48]\tvalidation_0-rmse:0.153513\n",
      "[49]\tvalidation_0-rmse:0.150488\n",
      "[50]\tvalidation_0-rmse:0.147326\n",
      "[51]\tvalidation_0-rmse:0.144514\n",
      "[52]\tvalidation_0-rmse:0.14239\n",
      "[53]\tvalidation_0-rmse:0.140282\n",
      "[54]\tvalidation_0-rmse:0.138653\n",
      "[55]\tvalidation_0-rmse:0.137354\n",
      "[56]\tvalidation_0-rmse:0.136205\n",
      "[57]\tvalidation_0-rmse:0.135268\n",
      "[58]\tvalidation_0-rmse:0.134441\n",
      "[59]\tvalidation_0-rmse:0.133901\n",
      "[60]\tvalidation_0-rmse:0.133456\n",
      "[61]\tvalidation_0-rmse:0.132917\n",
      "[62]\tvalidation_0-rmse:0.132431\n",
      "[63]\tvalidation_0-rmse:0.132128\n",
      "[64]\tvalidation_0-rmse:0.13161\n",
      "[65]\tvalidation_0-rmse:0.131283\n",
      "[66]\tvalidation_0-rmse:0.130895\n",
      "[67]\tvalidation_0-rmse:0.130789\n",
      "[68]\tvalidation_0-rmse:0.130501\n",
      "[69]\tvalidation_0-rmse:0.130031\n",
      "[70]\tvalidation_0-rmse:0.129881\n",
      "[71]\tvalidation_0-rmse:0.129747\n",
      "[72]\tvalidation_0-rmse:0.129736\n",
      "[73]\tvalidation_0-rmse:0.129577\n",
      "[74]\tvalidation_0-rmse:0.129453\n",
      "[75]\tvalidation_0-rmse:0.129387\n",
      "[76]\tvalidation_0-rmse:0.129643\n",
      "[77]\tvalidation_0-rmse:0.129528\n",
      "[78]\tvalidation_0-rmse:0.12944\n",
      "[79]\tvalidation_0-rmse:0.129122\n",
      "[80]\tvalidation_0-rmse:0.129055\n",
      "[81]\tvalidation_0-rmse:0.128959\n",
      "[82]\tvalidation_0-rmse:0.128676\n",
      "[83]\tvalidation_0-rmse:0.128378\n",
      "[84]\tvalidation_0-rmse:0.128284\n",
      "[85]\tvalidation_0-rmse:0.128211\n",
      "[86]\tvalidation_0-rmse:0.128197\n",
      "[87]\tvalidation_0-rmse:0.127893\n",
      "[88]\tvalidation_0-rmse:0.127571\n",
      "[89]\tvalidation_0-rmse:0.127481\n",
      "[90]\tvalidation_0-rmse:0.127598\n",
      "[91]\tvalidation_0-rmse:0.127664\n",
      "[92]\tvalidation_0-rmse:0.127576\n",
      "[93]\tvalidation_0-rmse:0.127378\n",
      "[94]\tvalidation_0-rmse:0.127229\n",
      "[95]\tvalidation_0-rmse:0.127135\n",
      "[96]\tvalidation_0-rmse:0.126999\n",
      "[97]\tvalidation_0-rmse:0.126963\n",
      "[98]\tvalidation_0-rmse:0.126889\n",
      "[99]\tvalidation_0-rmse:0.126856\n"
     ]
    },
    {
     "data": {
      "text/plain": [
       "XGBRegressor(base_score=0.5, colsample_bylevel=1, colsample_bytree=1, gamma=0,\n",
       "       learning_rate=0.1, max_delta_step=0, max_depth=3,\n",
       "       min_child_weight=1, missing=None, n_estimators=100, nthread=-1,\n",
       "       objective='reg:linear', reg_alpha=0, reg_lambda=1,\n",
       "       scale_pos_weight=1, seed=0, silent=True, subsample=1)"
      ]
     },
     "execution_count": 9,
     "metadata": {},
     "output_type": "execute_result"
    }
   ],
   "source": [
    "# oos evaluation and early stopping are parameters of the fit method\n",
    "# we can specify the evaluation set or out of sample set as below\n",
    "eval_set = [(X_test, y_test)]\n",
    "model.fit(X_train, y_train, early_stopping_rounds=10,\n",
    "                            eval_metric=\"rmse\",\n",
    "                            eval_set=eval_set,\n",
    "                            verbose=True)"
   ]
  },
  {
   "cell_type": "code",
   "execution_count": 15,
   "metadata": {
    "collapsed": false
   },
   "outputs": [
    {
     "name": "stdout",
     "output_type": "stream",
     "text": [
      "Neg MSE: 1.72% (0.19%)\n"
     ]
    }
   ],
   "source": [
    "# suggested evaluation is good old cross validation\n",
    "kfold = KFold(n_splits=5, random_state=seed)\n",
    "results = cross_val_score(model, X, y, cv=kfold, scoring=\"neg_mean_squared_error\")\n",
    "print(\"Neg MSE: %.2f%% (%.2f%%)\" % (-results.mean()*100, results.std()*100))"
   ]
  },
  {
   "cell_type": "markdown",
   "metadata": {},
   "source": [
    "### Hyperparameter Tuning\n",
    "- http://machinelearningmastery.com/tune-number-size-decision-trees-xgboost-python/\n",
    "- http://machinelearningmastery.com/tune-learning-rate-for-gradient-boosting-with-xgboost-in-python/\n",
    "- http://machinelearningmastery.com/stochastic-gradient-boosting-xgboost-scikit-learn-python/\n",
    "\n",
    "After a cursery review of the above these techniques all rely heavily on grid search. However the individual scores are all captured and plotted which allows for a nice viszualization of the differences and performance trends, rather than a point estimate of optimal parameters. \n",
    "\n",
    "## Building out the GridSearchCV visualizations is a great expansion of the tuning functionality"
   ]
  },
  {
   "cell_type": "markdown",
   "metadata": {},
   "source": [
    "#### Additional Resources\n",
    "- tuning the learning rate, [suggested strategy from Owen Zhang](https://www.slideshare.net/ShangxuanZhang/winning-data-science-competitions-presented-by-owen-zhang)\n"
   ]
  },
  {
   "cell_type": "markdown",
   "metadata": {},
   "source": [
    "### Learning Curves"
   ]
  },
  {
   "cell_type": "code",
   "execution_count": 16,
   "metadata": {
    "collapsed": true
   },
   "outputs": [],
   "source": [
    "from ml_helpers.model_eval import plot_validation_curve"
   ]
  },
  {
   "cell_type": "code",
   "execution_count": 17,
   "metadata": {
    "collapsed": false
   },
   "outputs": [
    {
     "name": "stderr",
     "output_type": "stream",
     "text": [
      "/Library/anaconda/lib/python2.7/site-packages/matplotlib/collections.py:590: FutureWarning: elementwise comparison failed; returning scalar instead, but in the future will perform elementwise comparison\n",
      "  if self._edgecolors == str('face'):\n"
     ]
    },
    {
     "data": {
      "image/png": "[encoded data removed]",
      "text/plain": [
       "<matplotlib.figure.Figure at 0x112c26610>"
      ]
     },
     "metadata": {},
     "output_type": "display_data"
    }
   ],
   "source": [
    "val1 = plot_validation_curve(estimator = model,\n",
    "                            title = \"GBM\",\n",
    "                            param_name = \"learning_rate\",\n",
    "                            X = X_train,\n",
    "                            y = y_train,\n",
    "                            param_range=np.logspace(-3,0,10),\n",
    "                            cv=10,\n",
    "                            scoring=\"neg_mean_squared_error\",\n",
    "                            njobs=1)"
   ]
  },
  {
   "cell_type": "markdown",
   "metadata": {},
   "source": [
    "### Visualize the Tree\n",
    "http://machinelearningmastery.com/visualize-gradient-boosting-decision-trees-xgboost-python/"
   ]
  },
  {
   "cell_type": "code",
   "execution_count": null,
   "metadata": {
    "collapsed": true
   },
   "outputs": [],
   "source": [
    "# for details on the parameters themselves see:\n",
    "# https://github.com/dmlc/xgboost/blob/master/doc/parameter.md"
   ]
  }
 ],
 "metadata": {
  "kernelspec": {
   "display_name": "Python 2",
   "language": "python",
   "name": "python2"
  },
  "language_info": {
   "codemirror_mode": {
    "name": "ipython",
    "version": 2
   },
   "file_extension": ".py",
   "mimetype": "text/x-python",
   "name": "python",
   "nbconvert_exporter": "python",
   "pygments_lexer": "ipython2",
   "version": "2.7.12"
  }
 },
 "nbformat": 4,
 "nbformat_minor": 0
}
